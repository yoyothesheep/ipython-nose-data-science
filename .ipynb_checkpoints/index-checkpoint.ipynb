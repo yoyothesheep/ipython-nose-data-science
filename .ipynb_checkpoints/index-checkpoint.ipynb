{
 "cells": [
  {
   "cell_type": "code",
   "execution_count": 10,
   "metadata": {
    "collapsed": true
   },
   "outputs": [],
   "source": [
    "import sys, os\n",
    "import logging\n",
    "import unittest\n",
    "\n",
    "log = logging.getLogger()\n",
    "\n",
    "from nose import core, loader\n",
    "\n",
    "#logging.basicConfig(level=logging.DEBUG)\n",
    "\n",
    "from types import ModuleType"
   ]
  },
  {
   "cell_type": "code",
   "execution_count": 15,
   "metadata": {
    "collapsed": true
   },
   "outputs": [],
   "source": [
    "def adder(a, b):\n",
    "    return a + b\n",
    "\n",
    "def test_nothing():\n",
    "    assert 1+2 == 2\n",
    "\n",
    "def test_adder():\n",
    "    assert adder(3, 4) == 7\n",
    "    assert adder(-3, -5) == -8\n",
    "    \n",
    "import random\n",
    "def test_random_generated_tests():\n",
    "    for _ in range(random.randint(1, 100)):\n",
    "        yield lambda: None\n",
    "\n",
    "flake = False\n",
    "def test_flake():\n",
    "    global flake\n",
    "    flake = not flake\n",
    "    assert flake"
   ]
  },
  {
   "cell_type": "code",
   "execution_count": 16,
   "metadata": {
    "collapsed": true
   },
   "outputs": [],
   "source": [
    "class MyProgram(core.TestProgram):\n",
    "    # XXX yuck: copy superclass runTests() so we can instantiate our own runner class;\n",
    "    # can't do it early because we don't have access to nose's config object.\n",
    "    def runTests(self):\n",
    "        self.testRunner = MyRunner(self.config)\n",
    "        # the rest is mostly duplicate code ;-(\n",
    "        plug_runner = self.config.plugins.prepareTestRunner(self.testRunner)\n",
    "        if plug_runner is not None:\n",
    "            self.testRunner = plug_runner\n",
    "        self.result = self.testRunner.run(self.test)\n",
    "        self.success = self.result.wasSuccessful()\n",
    "        return self.success\n",
    "\n",
    "class MyResult(unittest.TestResult):\n",
    "    def make_bar(self, tests, failing):\n",
    "        return '''<div>\n",
    "                <div style=\"background:red; width:%dpx\">&nbsp;</div>\n",
    "                <div style=\"background:green; width:%dpx\">&nbsp;</div>\n",
    "                </div>''' % (\n",
    "            failing * 10, (tests - failing) * 10)\n",
    "\n",
    "    def make_table_of_tests(self, tests):\n",
    "        table = '<table>'\n",
    "        for test in tests:\n",
    "            table += '<tr><td>%s</td><td><pre><![CDATA[%s]]></pre></td>' % (\n",
    "                str(test[0]), test[1])\n",
    "        table += '</table>'\n",
    "        return table\n",
    "    \n",
    "    def _repr_html_(self):\n",
    "        if self.errors or self.failures:\n",
    "            not_successes = len(self.errors) + len(self.failures)\n",
    "            return self.make_bar(self.testsRun, not_successes) + \\\n",
    "                '''\n",
    "                <h2 style=\"color:red\">Errors</h2>%s\n",
    "                <h2 style=\"color:red\">Failures</h2>%s''' % (\n",
    "                    self.make_table_of_tests(self.errors),\n",
    "                    self.make_table_of_tests(self.failures))\n",
    "        else:\n",
    "            return self.make_bar(self.testsRun, 0) + '<div>%d/%d&nbsp;tests&nbsp;passed</div>' % (\n",
    "                self.testsRun, self.testsRun)\n",
    "\n",
    "class MyRunner(object):\n",
    "    def __init__(self, config):\n",
    "        self.config = config\n",
    "\n",
    "    def run(self, test):\n",
    "        result = MyResult()\n",
    "        if hasattr(result, 'startTestRun'):   # python 2.7\n",
    "            result.startTestRun()\n",
    "        test(result)\n",
    "        if hasattr(result, 'stopTestRun'):\n",
    "            result.stopTestRun()\n",
    "        self.config.plugins.finalize(result)\n",
    "        self.result = result\n",
    "        return result"
   ]
  },
  {
   "cell_type": "code",
   "execution_count": 17,
   "metadata": {},
   "outputs": [
    {
     "data": {
      "text/html": [
       "<div>\n",
       "                <div style=\"background:red; width:10px\">&nbsp;</div>\n",
       "                <div style=\"background:green; width:640px\">&nbsp;</div>\n",
       "                </div>\n",
       "                <h2 style=\"color:red\">Errors</h2><table></table>\n",
       "                <h2 style=\"color:red\">Failures</h2><table><tr><td>__main__.test_nothing</td><td><pre><![CDATA[Traceback (most recent call last):\n",
       "  File \"/Users/flatironschool/anaconda/lib/python3.6/site-packages/nose/case.py\", line 197, in runTest\n",
       "    self.test(*self.arg)\n",
       "  File \"<ipython-input-15-ae7cf2e003f7>\", line 5, in test_nothing\n",
       "    assert 1+2 == 2\n",
       "AssertionError\n",
       "]]></pre></td></table>"
      ],
      "text/plain": [
       "<__main__.MyResult run=65 errors=0 failures=1>"
      ]
     },
     "execution_count": 17,
     "metadata": {},
     "output_type": "execute_result"
    }
   ],
   "source": [
    "test_module = ModuleType('test_module')\n",
    "test_module.__dict__.update(get_ipython().user_ns)\n",
    "\n",
    "ldr = loader.TestLoader()\n",
    "tests = ldr.loadTestsFromModule(test_module)\n",
    "#print(\"discovered: %r\" % list(tests._tests))\n",
    "\n",
    "tprog = MyProgram(argv=['dummy'], exit=False, suite=tests)\n",
    "tprog.result"
   ]
  },
  {
   "cell_type": "code",
   "execution_count": null,
   "metadata": {
    "collapsed": true
   },
   "outputs": [],
   "source": []
  }
 ],
 "metadata": {
  "kernelspec": {
   "display_name": "Python 3",
   "language": "python",
   "name": "python3"
  },
  "language_info": {
   "codemirror_mode": {
    "name": "ipython",
    "version": 3
   },
   "file_extension": ".py",
   "mimetype": "text/x-python",
   "name": "python",
   "nbconvert_exporter": "python",
   "pygments_lexer": "ipython3",
   "version": "3.6.4"
  }
 },
 "nbformat": 4,
 "nbformat_minor": 1
}
